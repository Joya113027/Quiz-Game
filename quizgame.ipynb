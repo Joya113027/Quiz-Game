{
 "cells": [
  {
   "cell_type": "code",
   "execution_count": null,
   "id": "95a98dfe",
   "metadata": {},
   "outputs": [
    {
     "name": "stdout",
     "output_type": "stream",
     "text": [
      "Welcome to Joya's Quiz!\n"
     ]
    }
   ],
   "source": [
    "print(\"Welcome to Joya's Quiz!\")\n",
    "playing=input(\"Do you want to play? \")\n",
    "if playing.lower()!=\"yes\":\n",
    "    quit()\n",
    "print(\"Okay lets play!:) \")\n",
    "score=0\n",
    "answer=input(\"What does CPU stand for? \")\n",
    "if answer.lower()==\"central processing unit\":\n",
    "    print(\"Correct!\")\n",
    "    score=score+1\n",
    "else:\n",
    "    print(\"Incorrect!\")\n",
    "    \n",
    "answer=input(\"What does GPU stand for? \")\n",
    "if answer.lower()==\"graphic processing unit\":\n",
    "    print(\"Correct!\")\n",
    "    score=score+1\n",
    "else:\n",
    "    print(\"Incorrect!\")\n",
    "answer=input(\"What does RAM stand for? \")\n",
    "if answer.lower()==\"random access memory\":\n",
    "    print(\"Correct!\")\n",
    "    score=score+1\n",
    "else:\n",
    "    print(\"Incorrect!\")\n",
    "answer=input(\"What does QA stand for? \")\n",
    "if answer.lower()==\"quality assurance\":\n",
    "    print(\"Correct!\")\n",
    "    score=score+1\n",
    "else:\n",
    "    print(\"Incorrect!\")\n",
    "print(\"You got {} Questions Correct !\".format(score))\n",
    "\n",
    "\n",
    "\n",
    "\n"
   ]
  },
  {
   "cell_type": "code",
   "execution_count": null,
   "id": "a74a3ad5",
   "metadata": {},
   "outputs": [],
   "source": []
  },
  {
   "cell_type": "code",
   "execution_count": null,
   "id": "b56c351e",
   "metadata": {},
   "outputs": [],
   "source": []
  },
  {
   "cell_type": "code",
   "execution_count": null,
   "id": "0361a738",
   "metadata": {},
   "outputs": [],
   "source": []
  }
 ],
 "metadata": {
  "kernelspec": {
   "display_name": "Python 3 (ipykernel)",
   "language": "python",
   "name": "python3"
  },
  "language_info": {
   "codemirror_mode": {
    "name": "ipython",
    "version": 3
   },
   "file_extension": ".py",
   "mimetype": "text/x-python",
   "name": "python",
   "nbconvert_exporter": "python",
   "pygments_lexer": "ipython3",
   "version": "3.11.1"
  }
 },
 "nbformat": 4,
 "nbformat_minor": 5
}
